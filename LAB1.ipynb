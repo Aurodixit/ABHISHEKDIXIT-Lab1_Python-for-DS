{
 "cells": [
  {
   "attachments": {},
   "cell_type": "markdown",
   "id": "2c8f47d3",
   "metadata": {
    "id": "2c8f47d3"
   },
   "source": [
    "# Lab Session"
   ]
  },
  {
   "attachments": {},
   "cell_type": "markdown",
   "id": "f637aba6",
   "metadata": {
    "id": "f637aba6"
   },
   "source": [
    "## <font color='blue'> Table Of Contents </font>\n",
    "- Problem Statement \n",
    "- Load required libraries\n",
    "- Connect to DB using mysql-connector-python package\n",
    "- Create database named `e_commerce`\n",
    "- Create tables and insert data into tables as specified in the question\n",
    "- Read all the questions and write sql queries to meet the objective "
   ]
  },
  {
   "attachments": {},
   "cell_type": "markdown",
   "id": "1073fc90",
   "metadata": {
    "id": "1073fc90"
   },
   "source": [
    "## <font color='blue'> Problem Statement </font>\n",
    "###  An E-commerce website manages its data in the form of various tables.\n",
    "You need to create a Database called `e_commerce` and various tables in it. The tables needed and attributes which need to be in every table are given before hand. All you have to do is create tables with data in it and answer some of the questions that follows."
   ]
  },
  {
   "attachments": {},
   "cell_type": "markdown",
   "id": "d9abe6c7",
   "metadata": {
    "id": "d9abe6c7"
   },
   "source": [
    "### Load Required Libraries"
   ]
  },
  {
   "cell_type": "code",
   "execution_count": 1,
   "id": "0178d08e",
   "metadata": {
    "id": "0178d08e"
   },
   "outputs": [],
   "source": [
    "import mysql.connector\n",
    "import pandas as pd"
   ]
  },
  {
   "attachments": {},
   "cell_type": "markdown",
   "id": "d7d7fd5c",
   "metadata": {
    "id": "d7d7fd5c"
   },
   "source": [
    "### Connect to DB using Mysql-connector-python package"
   ]
  },
  {
   "cell_type": "code",
   "execution_count": null,
   "id": "ef7bef72",
   "metadata": {
    "id": "ef7bef72"
   },
   "outputs": [],
   "source": [
    "connection = mysql.connector.connect(host =\"localhost\",\n",
    "                                     user =\"root\",\n",
    "                                     passwd =\"password\")\n",
    "cursorObject = connection.cursor()"
   ]
  },
  {
   "attachments": {},
   "cell_type": "markdown",
   "id": "9d55e510",
   "metadata": {
    "id": "9d55e510"
   },
   "source": [
    "### You are required to create a database named 'e_commerce'"
   ]
  },
  {
   "cell_type": "code",
   "execution_count": null,
   "id": "42a154f2",
   "metadata": {
    "id": "42a154f2"
   },
   "outputs": [],
   "source": [
    "connection = mysql.connector.connect(host =\"localhost\",\n",
    "                                     user =\"root\",\n",
    "                                     passwd =\"password\")\n",
    " \n",
    "cursorObject = connection.cursor()\n",
    " \n",
    "cursorObject.execute(\"CREATE DATABASE e_commerce\")\n",
    "\n",
    "connection.close()"
   ]
  },
  {
   "cell_type": "code",
   "execution_count": 2,
   "id": "fb3c6ec6",
   "metadata": {},
   "outputs": [],
   "source": [
    "connection = mysql.connector.connect(host =\"localhost\",\n",
    "                                     user =\"root\",\n",
    "                                     passwd =\"password\",\n",
    "                                     database = 'e_commerce')\n",
    "cursorObject = connection.cursor()"
   ]
  },
  {
   "attachments": {},
   "cell_type": "markdown",
   "id": "480dc986",
   "metadata": {
    "id": "480dc986"
   },
   "source": [
    "### Q1. Create tables for supplier, customer, category, product, productDetails, order, rating to store the data for the E-commerce with the schema definition given below.\n",
    "\n",
    "\n",
    "- **`supplier`**(SUPP_ID int primary key, SUPP_NAME varchar(50), SUPP_CITY varchar(50), SUPP_PHONE varchar(10))\n",
    "\n",
    "\n",
    "- **`customer`** (CUS_ID INT NOT NULL, CUS_NAME VARCHAR(20) NULL DEFAULT NULL, CUS_PHONE VARCHAR(10), CUS_CITY varchar(30) ,CUS_GENDER CHAR(1),PRIMARY KEY (CUS_ID))\n",
    "\n",
    "\n",
    "- **`category`** (CAT_ID INT NOT NULL, CAT_NAME VARCHAR(20) NULL DEFAULT NULL,PRIMARY KEY (CAT_ID))\n",
    "\n",
    "\n",
    "- **`product`** (PRO_ID INT NOT NULL, PRO_NAME VARCHAR(20) NULL DEFAULT NULL, PRO_DESC VARCHAR(60) NULL DEFAULT NULL, CAT_ID INT NOT NULL,PRIMARY KEY (PRO_ID),FOREIGN KEY (CAT_ID) REFERENCES CATEGORY (CAT_ID))\n",
    "\n",
    "\n",
    "- **`product_details`** (PROD_ID INT NOT NULL, PRO_ID INT NOT NULL, SUPP_ID INT NOT NULL, PROD_PRICE INT NOT NULL,\n",
    "  PRIMARY KEY (PROD_ID),FOREIGN KEY (PRO_ID) REFERENCES PRODUCT (PRO_ID), FOREIGN KEY (SUPP_ID) REFERENCES SUPPLIER(SUPP_ID))\n",
    "  \n",
    "  \n",
    "- **`orders`** (ORD_ID INT NOT NULL, ORD_AMOUNT INT NOT NULL, ORD_DATE DATE, CUS_ID INT NOT NULL, PROD_ID INT NOT NULL,PRIMARY KEY (ORD_ID),FOREIGN KEY (CUS_ID) REFERENCES CUSTOMER(CUS_ID),FOREIGN KEY (PROD_ID) REFERENCES PRODUCT_DETAILS(PROD_ID))\n",
    "\n",
    "\n",
    "- **`rating`** (RAT_ID INT NOT NULL, CUS_ID INT NOT NULL, SUPP_ID INT NOT NULL, RAT_RATSTARS INT NOT NULL,PRIMARY KEY (RAT_ID),FOREIGN KEY (SUPP_ID) REFERENCES SUPPLIER (SUPP_ID),FOREIGN KEY (CUS_ID) REFERENCES CUSTOMER(CUS_ID))"
   ]
  },
  {
   "cell_type": "code",
   "execution_count": null,
   "id": "967b718f",
   "metadata": {
    "id": "967b718f"
   },
   "outputs": [],
   "source": [
    "table_creation_query = \"\"\"create table supplier (SUPP_ID int primary key, SUPP_NAME varchar(50), SUPP_CITY varchar(50), SUPP_PHONE varchar(10));\n",
    "                          create table customer (CUS_ID INT NOT NULL, CUS_NAME VARCHAR(20) NULL DEFAULT NULL, CUS_PHONE VARCHAR(10), CUS_CITY varchar(30), CUS_GENDER CHAR(1),\n",
    "                          PRIMARY KEY (CUS_ID)); \n",
    "                          create table category (CAT_ID INT NOT NULL, CAT_NAME VARCHAR(20) NULL DEFAULT NULL, PRIMARY KEY (CAT_ID));\n",
    "                          create table product (PRO_ID INT NOT NULL, PRO_NAME VARCHAR(20) NULL DEFAULT NULL, PRO_DESC VARCHAR(60) NULL DEFAULT NULL, CAT_ID INT NOT NULL, \n",
    "                          PRIMARY KEY (PRO_ID), FOREIGN KEY (CAT_ID) REFERENCES CATEGORY (CAT_ID));\n",
    "                          create table product_details (PROD_ID INT NOT NULL, PRO_ID INT NOT NULL, SUPP_ID INT NOT NULL, PROD_PRICE INT NOT NULL, PRIMARY KEY (PROD_ID), \n",
    "                          FOREIGN KEY (PRO_ID) REFERENCES PRODUCT (PRO_ID), FOREIGN KEY (SUPP_ID) REFERENCES SUPPLIER (SUPP_ID));\n",
    "                          create table orders (ORD_ID INT NOT NULL, ORD_AMOUNT INT NOT NULL, ORD_DATE DATE, CUS_ID INT NOT NULL, PROD_ID INT NOT NULL, PRIMARY KEY (ORD_ID), \n",
    "                          FOREIGN KEY (CUS_ID) REFERENCES CUSTOMER (CUS_ID), FOREIGN KEY (PROD_ID) REFERENCES PRODUCT_DETAILS (PROD_ID));\n",
    "                          create table rating (RAT_ID INT NOT NULL, CUS_ID INT NOT NULL, SUPP_ID INT NOT NULL, RAT_RATSTARS INT NOT NULL, PRIMARY KEY (RAT_ID), FOREIGN KEY (SUPP_ID)\n",
    "                          REFERENCES SUPPLIER (SUPP_ID), FOREIGN KEY (CUS_ID) REFERENCES CUSTOMER (CUS_ID));\"\"\"\n",
    "cursorObject.execute(table_creation_query)"
   ]
  },
  {
   "attachments": {},
   "cell_type": "markdown",
   "id": "1f653731",
   "metadata": {
    "id": "1f653731"
   },
   "source": [
    "### Q2. Insert the following data in the table created above\n",
    "#### `Note:` If you are getting any error while inserting the data into tables, Kindly close the connection and reconnect\n",
    "\n",
    "#### Table:  supplier\n",
    "| SUPP_ID | SUPP_NAME | SUPP_CITY | SUPP_PHONE |\n",
    "| --- | --- | --- | --- | \n",
    "| 1 | Rajesh Retails | Delhi | 1234567890 |\n",
    "| 2 | Appario Ltd. | Mumbai | 2589631470 | \n",
    "| 3 | Knome products | Bangalore | 9785462315 |\n",
    "| 4 | Bansal Retails | Kochi | 8975463285 |\n",
    "| 5 | Mittal Ltd. | Lucknow | 7898456532 |"
   ]
  },
  {
   "cell_type": "code",
   "execution_count": null,
   "id": "f6dddd07",
   "metadata": {
    "id": "f6dddd07"
   },
   "outputs": [],
   "source": [
    "# insert into \"supplier\" table\n",
    "insert_query = \"INSERT INTO SUPPLIER (SUPP_ID, SUPP_NAME, SUPP_CITY, SUPP_PHONE) VALUES (%s, %s, %s, %s)\"\n",
    "val = [(1,\"Rajesh Retails\",\"Delhi\",1234567890),\n",
    "       (2,\"Appario Ltd.\",\"Mumbai\",2589631470),\n",
    "       (3,\"Knome products\",\"Bangalore\",9785462315),\n",
    "       (4,\"Bansal Retails\",\"Kochi\",8975463285),\n",
    "       (5,\"Mittal Ltd.\",\"Lucknow\",7898456532)]\n",
    "\n",
    "cursorObject.executemany(insert_query, val)\n",
    "connection.commit()"
   ]
  },
  {
   "attachments": {},
   "cell_type": "markdown",
   "id": "e8a070a6",
   "metadata": {
    "id": "e8a070a6"
   },
   "source": [
    "#### Table:  customer\n",
    "| CUS_ID | CUS_NAME | CUS_PHONE | CUS_CITY | CUS_GENDER\n",
    "| --- | --- | --- | --- | --- |\n",
    "| 1 | AAKASH | 9999999999 | DELHI | M |\n",
    "| 2 | AMAN | 9785463215 | NOIDA | M |\n",
    "| 3 | NEHA | 9999999998 | MUMBAI | F |\n",
    "| 4 | MEGHA | 9994562399 | KOLKATA | F |\n",
    "| 5 | PULKIT | 7895999999 | LUCKNOW | M |"
   ]
  },
  {
   "cell_type": "code",
   "execution_count": null,
   "id": "15a4ee87",
   "metadata": {
    "id": "15a4ee87"
   },
   "outputs": [],
   "source": [
    "# insert into \"customer\" table\n",
    "insert_query = \"INSERT INTO CUSTOMER (CUS_ID, CUS_NAME, CUS_PHONE, CUS_CITY, CUS_GENDER) VALUES (%s, %s, %s, %s, %s)\"\n",
    "val = [(1,\"AAKASH\",9999999999,\"Delhi\",\"M\"),\n",
    "       (2,\"AMAN\",9785463215,\"Mumbai\",\"M\"),\n",
    "       (3,\"NEHA\",9999999998,\"Bangalore\",\"F\"),\n",
    "       (4,\"MEGHA\",9994562399,\"Kochi\",\"F\"),\n",
    "       (5,\"PULKIT\",7895999999,\"Lucknow\",\"M\")]\n",
    "\n",
    "cursorObject.executemany(insert_query, val)\n",
    "connection.commit()"
   ]
  },
  {
   "attachments": {},
   "cell_type": "markdown",
   "id": "b68bfbc2",
   "metadata": {
    "id": "b68bfbc2"
   },
   "source": [
    "#### Table:  category\n",
    "| CAT_ID | CAT_NAME | \n",
    "| --- | --- |  \n",
    "| 1 | BOOKS |\n",
    "| 2 | GAMES |  \n",
    "| 3 | GROCERIES | \n",
    "| 4 | ELECTRONICS | \n",
    "| 5 | CLOTHES | "
   ]
  },
  {
   "cell_type": "code",
   "execution_count": null,
   "id": "05a00abc",
   "metadata": {
    "id": "05a00abc"
   },
   "outputs": [],
   "source": [
    "# insert into \"categoty\" table\n",
    "insert_query = \"INSERT INTO category (CAT_ID, CAT_NAME) VALUES (%s, %s)\"\n",
    "val = [(1,\"BOOKS\"),\n",
    "       (2,\"GAMES\"),\n",
    "       (3,\"GROCERIES\"),\n",
    "       (4,\"ELECTRONICS\"),\n",
    "       (5,\"CLOTHES\")]\n",
    "\n",
    "cursorObject.executemany(insert_query, val)\n",
    "connection.commit()"
   ]
  },
  {
   "attachments": {},
   "cell_type": "markdown",
   "id": "eb3bc592",
   "metadata": {
    "id": "eb3bc592"
   },
   "source": [
    "#### Table:  product\n",
    "| PRO_ID | PRO_NAME | PRO_DESC | CAT_ID |\n",
    "| --- | --- | --- | --- | \n",
    "| 1 | GTA V | DFJDJFDJFDJFDJFJF | 2 |\n",
    "| 2 | TSHIRT | DFDFJDFJDKFD | 5 | \n",
    "| 3 | ROG LAPTOP | DFNTTNTNTERND | 4 |\n",
    "| 4 | OATS | REURENTBTOTH | 3 |\n",
    "| 5 | HARRY POTTER | NBEMCTHTJTH | 1 |\n"
   ]
  },
  {
   "cell_type": "code",
   "execution_count": null,
   "id": "cdfbdfad",
   "metadata": {
    "id": "cdfbdfad"
   },
   "outputs": [],
   "source": [
    "# insert into \"product\" table\n",
    "insert_query = \"INSERT INTO product (PRO_ID, PRO_NAME, PRO_DESC, CAT_ID) VALUES (%s, %s, %s, %s)\"\n",
    "val = [(1,\"GTA V\",\"DFJDJFDJFDJFDJFJF\",2),\n",
    "       (2,\"TSHIRT\",\"DFDFJDFJDKFD\",5),\n",
    "       (3,\"ROG LAPTOP\",\"DFNTTNTNTERND\",4),\n",
    "       (4,\"OATS\",\"REURENTBTOTH\",3),\n",
    "       (5,\"HARRY POTTER\",\"NBEMCTHTJTH\",1)]\n",
    "\n",
    "\n",
    "cursorObject.executemany(insert_query, val)\n",
    "connection.commit()"
   ]
  },
  {
   "attachments": {},
   "cell_type": "markdown",
   "id": "cfa8a47d",
   "metadata": {
    "id": "cfa8a47d"
   },
   "source": [
    "#### Table:  product_details\n",
    "| PROD_ID | PRO_ID | SUPP_ID | PROD_PRICE |\n",
    "| --- | --- | --- | --- | \n",
    "| 1 | 1 | 2 | 1500 |\n",
    "| 2 | 3 | 5 | 30000 | \n",
    "| 3 | 5 | 1 | 3000 |\n",
    "| 4 | 2 | 3 | 2500 |\n",
    "| 5 | 4 | 1 | 1000 |"
   ]
  },
  {
   "cell_type": "code",
   "execution_count": null,
   "id": "c18ea964",
   "metadata": {
    "id": "c18ea964"
   },
   "outputs": [],
   "source": [
    "# insert into \"product_details\" table\n",
    "insert_query = \"INSERT INTO PRODUCT_DETAILS (PROD_ID, PRO_ID, SUPP_ID, PROD_PRICE) VALUES (%s, %s, %s, %s)\"\n",
    "val = [(1,1,2,1500),\n",
    "       (2,3,5,30000),\n",
    "       (3,5,1,3000),\n",
    "       (4,2,3,2500),\n",
    "       (5,4,1,1000)]\n",
    "\n",
    "cursorObject.executemany(insert_query, val)\n",
    "connection.commit()"
   ]
  },
  {
   "attachments": {},
   "cell_type": "markdown",
   "id": "1df49086",
   "metadata": {
    "id": "1df49086"
   },
   "source": [
    "#### Table:  orders\n",
    "| ORD_ID | ORD_AMOUNT | ORD_DATE | CUS_ID | PROD_ID\n",
    "| --- | --- | --- | --- | --- |\n",
    "| 20 | 1500 | 2021-10-12 | 3 | 5 |\n",
    "| 25 | 30500 | 2021-09-16 | 5 | 2 |\n",
    "| 26 | 2000 | 2021-10-05 | 1 | 1 |\n",
    "| 30 | 3500 | 2021-08-16 | 4 | 3 |\n",
    "| 50 | 2000 | 2021-10-06 | 2 | 1 |"
   ]
  },
  {
   "cell_type": "code",
   "execution_count": null,
   "id": "0d97dc92",
   "metadata": {
    "id": "0d97dc92"
   },
   "outputs": [],
   "source": [
    "# insert into \"orders\" table\n",
    "insert_query = \"INSERT INTO orders (ORD_ID, ORD_AMOUNT, ORD_DATE, CUS_ID, PROD_ID) VALUES (%s, %s, %s, %s, %s)\"\n",
    "val = [(20,1500,\"2021-10-12\",3,5),\n",
    "       (25,30500,\"2021-09-16\",5,2),\n",
    "       (26,2000,\"2021-10-05\",1,1),\n",
    "       (30,3500,\"2021-08-16\",4,3),\n",
    "       (50,2000,\"2021-10-06\",2,1)]\n",
    "\n",
    "cursorObject.executemany(insert_query, val)\n",
    "connection.commit()"
   ]
  },
  {
   "attachments": {},
   "cell_type": "markdown",
   "id": "75b8ce5f",
   "metadata": {
    "id": "75b8ce5f"
   },
   "source": [
    "#### Table: rating\n",
    "| RAT_ID | CUS_ID | SUPP_ID | RAT_RATSTARS |\n",
    "| --- | --- | --- | --- | \n",
    "| 1 | 2 | 2 | 4 |\n",
    "| 2 | 3 | 4 | 3 | \n",
    "| 3 | 5 | 1 | 5 |\n",
    "| 4 | 1 | 3 | 2 |\n",
    "| 5 | 4 | 5 | 4 |"
   ]
  },
  {
   "cell_type": "code",
   "execution_count": null,
   "id": "6d5f1e18",
   "metadata": {
    "id": "6d5f1e18"
   },
   "outputs": [],
   "source": [
    "# insert into \"rating\" table\n",
    "insert_query = \"INSERT INTO RATING (RAT_ID, CUS_ID, SUPP_ID, RAT_RATSTARS) VALUES (%s, %s, %s, %s)\"\n",
    "val = [(1,2,2,4),\n",
    "       (2,3,4,3),\n",
    "       (3,5,1,5),\n",
    "       (4,1,3,2),\n",
    "       (5,4,5,4)]\n",
    "\n",
    "cursorObject.executemany(insert_query, val)\n",
    "connection.commit()"
   ]
  },
  {
   "attachments": {},
   "cell_type": "markdown",
   "id": "b59361c3",
   "metadata": {
    "id": "b59361c3"
   },
   "source": [
    "### Q3) Display the number of the customer group by their genders who have placed any order of amount greater than or equal to Rs.3000."
   ]
  },
  {
   "cell_type": "code",
   "execution_count": 6,
   "id": "fcafaf3c",
   "metadata": {
    "id": "fcafaf3c"
   },
   "outputs": [
    {
     "data": {
      "text/html": [
       "<div>\n",
       "<style scoped>\n",
       "    .dataframe tbody tr th:only-of-type {\n",
       "        vertical-align: middle;\n",
       "    }\n",
       "\n",
       "    .dataframe tbody tr th {\n",
       "        vertical-align: top;\n",
       "    }\n",
       "\n",
       "    .dataframe thead th {\n",
       "        text-align: right;\n",
       "    }\n",
       "</style>\n",
       "<table border=\"1\" class=\"dataframe\">\n",
       "  <thead>\n",
       "    <tr style=\"text-align: right;\">\n",
       "      <th></th>\n",
       "      <th>CUS_ID</th>\n",
       "      <th>CUS_GENDER</th>\n",
       "      <th>NUM_CUST</th>\n",
       "    </tr>\n",
       "  </thead>\n",
       "  <tbody>\n",
       "    <tr>\n",
       "      <th>0</th>\n",
       "      <td>5</td>\n",
       "      <td>M</td>\n",
       "      <td>1</td>\n",
       "    </tr>\n",
       "    <tr>\n",
       "      <th>1</th>\n",
       "      <td>4</td>\n",
       "      <td>F</td>\n",
       "      <td>1</td>\n",
       "    </tr>\n",
       "  </tbody>\n",
       "</table>\n",
       "</div>"
      ],
      "text/plain": [
       "   CUS_ID CUS_GENDER  NUM_CUST\n",
       "0       5          M         1\n",
       "1       4          F         1"
      ]
     },
     "execution_count": 6,
     "metadata": {},
     "output_type": "execute_result"
    }
   ],
   "source": [
    "Q3= \"\"\"Select C.CUS_ID,C.CUS_GENDER,Count(*) as NUM_CUST from customer as C inner join orders as O on C.cus_id=O.cus_id\n",
    "       where O.ord_amount>=3000 group by C.cus_gender\"\"\"\n",
    "\n",
    "\n",
    "cursorObject.execute(Q3)\n",
    "output = cursorObject.fetchall()\n",
    "\n",
    "output_df = pd.DataFrame(output, columns=['CUS_ID','CUS_GENDER','NUM_CUST'])\n",
    "output_df"
   ]
  },
  {
   "attachments": {},
   "cell_type": "markdown",
   "id": "e49e04f5",
   "metadata": {
    "id": "e49e04f5"
   },
   "source": [
    "### Q4) Display all the order along with product name ordered by a customer having Customer_Id=2;"
   ]
  },
  {
   "cell_type": "code",
   "execution_count": 5,
   "id": "9dcb7883",
   "metadata": {
    "id": "9dcb7883"
   },
   "outputs": [
    {
     "data": {
      "text/html": [
       "<div>\n",
       "<style scoped>\n",
       "    .dataframe tbody tr th:only-of-type {\n",
       "        vertical-align: middle;\n",
       "    }\n",
       "\n",
       "    .dataframe tbody tr th {\n",
       "        vertical-align: top;\n",
       "    }\n",
       "\n",
       "    .dataframe thead th {\n",
       "        text-align: right;\n",
       "    }\n",
       "</style>\n",
       "<table border=\"1\" class=\"dataframe\">\n",
       "  <thead>\n",
       "    <tr style=\"text-align: right;\">\n",
       "      <th></th>\n",
       "      <th>PRODUCT NAME</th>\n",
       "      <th>ORDER ID</th>\n",
       "      <th>CUST ID</th>\n",
       "      <th>ORDER AMOUNT</th>\n",
       "      <th>ORDER DATE</th>\n",
       "    </tr>\n",
       "  </thead>\n",
       "  <tbody>\n",
       "    <tr>\n",
       "      <th>0</th>\n",
       "      <td>GTA V</td>\n",
       "      <td>50</td>\n",
       "      <td>2</td>\n",
       "      <td>2000</td>\n",
       "      <td>2021-10-06</td>\n",
       "    </tr>\n",
       "  </tbody>\n",
       "</table>\n",
       "</div>"
      ],
      "text/plain": [
       "  PRODUCT NAME  ORDER ID  CUST ID  ORDER AMOUNT  ORDER DATE\n",
       "0        GTA V        50        2          2000  2021-10-06"
      ]
     },
     "execution_count": 5,
     "metadata": {},
     "output_type": "execute_result"
    }
   ],
   "source": [
    "Q4 = \"\"\"select pro.PRO_NAME, ord.ORD_ID, ord.CUS_ID, ord.ORD_AMOUNT, ord.ORD_DATE from orders ord inner join product_details \n",
    "        prod on ord.prod_id = prod.prod_id inner join product pro on pro.pro_id = prod.pro_id where ord.CUS_ID=2\"\"\"\n",
    "\n",
    "cursorObject.execute(Q4)\n",
    "\n",
    "output = cursorObject.fetchall()\n",
    "\n",
    "output_df = pd.DataFrame(output, columns=['PRODUCT NAME','ORDER ID', 'CUST ID','ORDER AMOUNT','ORDER DATE'])\n",
    "output_df"
   ]
  },
  {
   "attachments": {},
   "cell_type": "markdown",
   "id": "3a33398e",
   "metadata": {
    "id": "3a33398e"
   },
   "source": [
    "### Q5) Display the Supplier details who can supply more than one product."
   ]
  },
  {
   "cell_type": "code",
   "execution_count": 7,
   "id": "e933b979",
   "metadata": {
    "id": "e933b979"
   },
   "outputs": [
    {
     "data": {
      "text/html": [
       "<div>\n",
       "<style scoped>\n",
       "    .dataframe tbody tr th:only-of-type {\n",
       "        vertical-align: middle;\n",
       "    }\n",
       "\n",
       "    .dataframe tbody tr th {\n",
       "        vertical-align: top;\n",
       "    }\n",
       "\n",
       "    .dataframe thead th {\n",
       "        text-align: right;\n",
       "    }\n",
       "</style>\n",
       "<table border=\"1\" class=\"dataframe\">\n",
       "  <thead>\n",
       "    <tr style=\"text-align: right;\">\n",
       "      <th></th>\n",
       "      <th>SUPP ID</th>\n",
       "      <th>SUPP NAME</th>\n",
       "      <th>SUPP CITY</th>\n",
       "      <th>SUPP PHONE</th>\n",
       "      <th>PRODUCTS</th>\n",
       "    </tr>\n",
       "  </thead>\n",
       "  <tbody>\n",
       "    <tr>\n",
       "      <th>0</th>\n",
       "      <td>1</td>\n",
       "      <td>Rajesh Retails</td>\n",
       "      <td>Delhi</td>\n",
       "      <td>1234567890</td>\n",
       "      <td>2</td>\n",
       "    </tr>\n",
       "  </tbody>\n",
       "</table>\n",
       "</div>"
      ],
      "text/plain": [
       "   SUPP ID       SUPP NAME SUPP CITY  SUPP PHONE  PRODUCTS\n",
       "0        1  Rajesh Retails     Delhi  1234567890         2"
      ]
     },
     "execution_count": 7,
     "metadata": {},
     "output_type": "execute_result"
    }
   ],
   "source": [
    "Q5 = \"\"\"select sup.supp_id,sup.supp_name,sup.supp_city,sup.supp_phone,count(prod.prod_id) total_products from Supplier \n",
    "        sup inner join product_details prod on sup.SUPP_ID = prod.supp_id inner join product pro on pro.pro_id=prod.pro_id\n",
    "        group by sup.supp_id, sup.supp_name, sup.supp_city, sup.supp_phone having count(prod.prod_id) > 1\"\"\"\n",
    "\n",
    "cursorObject.execute(Q5)\n",
    "\n",
    "output = cursorObject.fetchall()\n",
    "output_df = pd.DataFrame(output, columns=['SUPP ID', 'SUPP NAME', 'SUPP CITY', 'SUPP PHONE', 'PRODUCTS'])\n",
    "output_df"
   ]
  },
  {
   "attachments": {},
   "cell_type": "markdown",
   "id": "5fd319ef",
   "metadata": {
    "id": "5fd319ef"
   },
   "source": [
    "### Q6) Find the category of the product whose order amount is minimum."
   ]
  },
  {
   "cell_type": "code",
   "execution_count": 3,
   "id": "06f5cb51",
   "metadata": {
    "id": "06f5cb51"
   },
   "outputs": [
    {
     "data": {
      "text/html": [
       "<div>\n",
       "<style scoped>\n",
       "    .dataframe tbody tr th:only-of-type {\n",
       "        vertical-align: middle;\n",
       "    }\n",
       "\n",
       "    .dataframe tbody tr th {\n",
       "        vertical-align: top;\n",
       "    }\n",
       "\n",
       "    .dataframe thead th {\n",
       "        text-align: right;\n",
       "    }\n",
       "</style>\n",
       "<table border=\"1\" class=\"dataframe\">\n",
       "  <thead>\n",
       "    <tr style=\"text-align: right;\">\n",
       "      <th></th>\n",
       "      <th>CATEGORY</th>\n",
       "    </tr>\n",
       "  </thead>\n",
       "  <tbody>\n",
       "    <tr>\n",
       "      <th>0</th>\n",
       "      <td>GROCERIES</td>\n",
       "    </tr>\n",
       "  </tbody>\n",
       "</table>\n",
       "</div>"
      ],
      "text/plain": [
       "    CATEGORY\n",
       "0  GROCERIES"
      ]
     },
     "execution_count": 3,
     "metadata": {},
     "output_type": "execute_result"
    }
   ],
   "source": [
    "Q6 = \"\"\"select cat.cat_name from Category cat inner join product pro on cat.cat_id = pro.cat_id inner join product_details \n",
    "        prod on pro.pro_id = prod.pro_id where prod.PROD_ID in (select prod_id from orders where ord_amount=(select min(ord_amount) from orders))\"\"\"\n",
    "\n",
    "cursorObject.execute(Q6)\n",
    "\n",
    "output = cursorObject.fetchall()\n",
    "output_df = pd.DataFrame(output, columns=['CATEGORY'])\n",
    "output_df"
   ]
  },
  {
   "attachments": {},
   "cell_type": "markdown",
   "id": "107102d4",
   "metadata": {
    "id": "107102d4"
   },
   "source": [
    "### Q7) Display the Id and Name of the Product ordered after “2021-10-05”."
   ]
  },
  {
   "cell_type": "code",
   "execution_count": 4,
   "id": "5d3fc7e8",
   "metadata": {
    "id": "5d3fc7e8"
   },
   "outputs": [
    {
     "data": {
      "text/html": [
       "<div>\n",
       "<style scoped>\n",
       "    .dataframe tbody tr th:only-of-type {\n",
       "        vertical-align: middle;\n",
       "    }\n",
       "\n",
       "    .dataframe tbody tr th {\n",
       "        vertical-align: top;\n",
       "    }\n",
       "\n",
       "    .dataframe thead th {\n",
       "        text-align: right;\n",
       "    }\n",
       "</style>\n",
       "<table border=\"1\" class=\"dataframe\">\n",
       "  <thead>\n",
       "    <tr style=\"text-align: right;\">\n",
       "      <th></th>\n",
       "      <th>PRODUCT ID</th>\n",
       "      <th>PRODUCT NAME</th>\n",
       "      <th>ORDER DATE</th>\n",
       "    </tr>\n",
       "  </thead>\n",
       "  <tbody>\n",
       "    <tr>\n",
       "      <th>0</th>\n",
       "      <td>4</td>\n",
       "      <td>OATS</td>\n",
       "      <td>2021-10-12</td>\n",
       "    </tr>\n",
       "    <tr>\n",
       "      <th>1</th>\n",
       "      <td>1</td>\n",
       "      <td>GTA V</td>\n",
       "      <td>2021-10-06</td>\n",
       "    </tr>\n",
       "  </tbody>\n",
       "</table>\n",
       "</div>"
      ],
      "text/plain": [
       "   PRODUCT ID PRODUCT NAME  ORDER DATE\n",
       "0           4         OATS  2021-10-12\n",
       "1           1        GTA V  2021-10-06"
      ]
     },
     "execution_count": 4,
     "metadata": {},
     "output_type": "execute_result"
    }
   ],
   "source": [
    "Q7=\"\"\"select P.PRO_ID,P.PRO_NAME,Q.ORD_DATE from product as P inner join\n",
    "      (select PD.PRO_ID,B.ORD_DATE FROM product_details as PD inner join\n",
    "      (select O.ORD_DATE,O.PROD_ID from orders as O where O.ORD_DATE>'2021-10-05') as B where PD.PROD_ID=B.PROD_ID)\n",
    "      as Q ON P.PRO_ID=Q.PRO_ID\"\"\"\n",
    "\n",
    "cursorObject.execute(Q7)\n",
    " \n",
    "output = cursorObject.fetchall()\n",
    "   \n",
    "output_df = pd.DataFrame(output, columns=['PRODUCT ID','PRODUCT NAME','ORDER DATE'])\n",
    "output_df"
   ]
  },
  {
   "attachments": {},
   "cell_type": "markdown",
   "id": "bdce7167",
   "metadata": {
    "id": "bdce7167"
   },
   "source": [
    "### Q8) Print the top 3 supplier name and id and rating on the basis of their rating along with the customer name who has given the rating."
   ]
  },
  {
   "cell_type": "code",
   "execution_count": 5,
   "id": "fa0cbe44",
   "metadata": {
    "id": "fa0cbe44"
   },
   "outputs": [
    {
     "data": {
      "text/html": [
       "<div>\n",
       "<style scoped>\n",
       "    .dataframe tbody tr th:only-of-type {\n",
       "        vertical-align: middle;\n",
       "    }\n",
       "\n",
       "    .dataframe tbody tr th {\n",
       "        vertical-align: top;\n",
       "    }\n",
       "\n",
       "    .dataframe thead th {\n",
       "        text-align: right;\n",
       "    }\n",
       "</style>\n",
       "<table border=\"1\" class=\"dataframe\">\n",
       "  <thead>\n",
       "    <tr style=\"text-align: right;\">\n",
       "      <th></th>\n",
       "      <th>SUPP ID</th>\n",
       "      <th>SUPP NAME</th>\n",
       "      <th>CUSTOMER NAME</th>\n",
       "      <th>RATINGS</th>\n",
       "    </tr>\n",
       "  </thead>\n",
       "  <tbody>\n",
       "    <tr>\n",
       "      <th>0</th>\n",
       "      <td>1</td>\n",
       "      <td>Rajesh Retails</td>\n",
       "      <td>PULKIT</td>\n",
       "      <td>5</td>\n",
       "    </tr>\n",
       "    <tr>\n",
       "      <th>1</th>\n",
       "      <td>2</td>\n",
       "      <td>Appario Ltd.</td>\n",
       "      <td>AMAN</td>\n",
       "      <td>4</td>\n",
       "    </tr>\n",
       "    <tr>\n",
       "      <th>2</th>\n",
       "      <td>5</td>\n",
       "      <td>Mittal Ltd.</td>\n",
       "      <td>MEGHA</td>\n",
       "      <td>4</td>\n",
       "    </tr>\n",
       "  </tbody>\n",
       "</table>\n",
       "</div>"
      ],
      "text/plain": [
       "   SUPP ID       SUPP NAME CUSTOMER NAME  RATINGS\n",
       "0        1  Rajesh Retails        PULKIT        5\n",
       "1        2    Appario Ltd.          AMAN        4\n",
       "2        5     Mittal Ltd.         MEGHA        4"
      ]
     },
     "execution_count": 5,
     "metadata": {},
     "output_type": "execute_result"
    }
   ],
   "source": [
    "Q8=\"\"\"select supplier.supp_id,supplier.supp_name,customer.cus_name,rating.rat_ratstars from rating inner join supplier on\n",
    "      rating.supp_id=supplier.supp_id inner join customer on rating.cus_id=customer.cus_id order by rating.rat_ratstars desc limit 3;\"\"\"\n",
    "\n",
    "cursorObject.execute(Q8)\n",
    "output = cursorObject.fetchall()\n",
    "\n",
    "output_df = pd.DataFrame(output, columns=['SUPP ID','SUPP NAME','CUSTOMER NAME','RATINGS'])\n",
    "output_df"
   ]
  },
  {
   "attachments": {},
   "cell_type": "markdown",
   "id": "346ec2a1",
   "metadata": {
    "id": "346ec2a1"
   },
   "source": [
    "### Q9) Display customer name and gender whose names start or end with character 'A'."
   ]
  },
  {
   "cell_type": "code",
   "execution_count": 6,
   "id": "e571b5fd",
   "metadata": {
    "id": "e571b5fd"
   },
   "outputs": [
    {
     "data": {
      "text/html": [
       "<div>\n",
       "<style scoped>\n",
       "    .dataframe tbody tr th:only-of-type {\n",
       "        vertical-align: middle;\n",
       "    }\n",
       "\n",
       "    .dataframe tbody tr th {\n",
       "        vertical-align: top;\n",
       "    }\n",
       "\n",
       "    .dataframe thead th {\n",
       "        text-align: right;\n",
       "    }\n",
       "</style>\n",
       "<table border=\"1\" class=\"dataframe\">\n",
       "  <thead>\n",
       "    <tr style=\"text-align: right;\">\n",
       "      <th></th>\n",
       "      <th>CUSTOMER NAME</th>\n",
       "      <th>CUSTOMER GENDER</th>\n",
       "    </tr>\n",
       "  </thead>\n",
       "  <tbody>\n",
       "    <tr>\n",
       "      <th>0</th>\n",
       "      <td>AAKASH</td>\n",
       "      <td>M</td>\n",
       "    </tr>\n",
       "    <tr>\n",
       "      <th>1</th>\n",
       "      <td>AMAN</td>\n",
       "      <td>M</td>\n",
       "    </tr>\n",
       "    <tr>\n",
       "      <th>2</th>\n",
       "      <td>NEHA</td>\n",
       "      <td>F</td>\n",
       "    </tr>\n",
       "    <tr>\n",
       "      <th>3</th>\n",
       "      <td>MEGHA</td>\n",
       "      <td>F</td>\n",
       "    </tr>\n",
       "  </tbody>\n",
       "</table>\n",
       "</div>"
      ],
      "text/plain": [
       "  CUSTOMER NAME CUSTOMER GENDER\n",
       "0        AAKASH               M\n",
       "1          AMAN               M\n",
       "2          NEHA               F\n",
       "3         MEGHA               F"
      ]
     },
     "execution_count": 6,
     "metadata": {},
     "output_type": "execute_result"
    }
   ],
   "source": [
    "Q9=\"select CUS_NAME,CUS_GENDER FROM customer where CUS_NAME LIKE 'A%' OR CUS_NAME LIKE '%A'\"\n",
    "\n",
    "cursorObject.execute(Q9)\n",
    " \n",
    "output = cursorObject.fetchall()\n",
    "   \n",
    "output_df = pd.DataFrame(output, columns=['CUSTOMER NAME','CUSTOMER GENDER'])\n",
    "output_df"
   ]
  },
  {
   "attachments": {},
   "cell_type": "markdown",
   "id": "d0b01f77",
   "metadata": {
    "id": "d0b01f77"
   },
   "source": [
    "### Q10) Display the total order amount of the male customers."
   ]
  },
  {
   "cell_type": "code",
   "execution_count": 7,
   "id": "c3fa76e3",
   "metadata": {
    "id": "c3fa76e3"
   },
   "outputs": [
    {
     "data": {
      "text/html": [
       "<div>\n",
       "<style scoped>\n",
       "    .dataframe tbody tr th:only-of-type {\n",
       "        vertical-align: middle;\n",
       "    }\n",
       "\n",
       "    .dataframe tbody tr th {\n",
       "        vertical-align: top;\n",
       "    }\n",
       "\n",
       "    .dataframe thead th {\n",
       "        text-align: right;\n",
       "    }\n",
       "</style>\n",
       "<table border=\"1\" class=\"dataframe\">\n",
       "  <thead>\n",
       "    <tr style=\"text-align: right;\">\n",
       "      <th></th>\n",
       "      <th>TOTAL AMOUNT</th>\n",
       "    </tr>\n",
       "  </thead>\n",
       "  <tbody>\n",
       "    <tr>\n",
       "      <th>0</th>\n",
       "      <td>34500</td>\n",
       "    </tr>\n",
       "  </tbody>\n",
       "</table>\n",
       "</div>"
      ],
      "text/plain": [
       "  TOTAL AMOUNT\n",
       "0        34500"
      ]
     },
     "execution_count": 7,
     "metadata": {},
     "output_type": "execute_result"
    }
   ],
   "source": [
    "Q10=\"\"\"select sum(orders.ord_amount) as Amount from orders inner join customer on orders.cus_id=customer.cus_id where customer.cus_gender='M';\"\"\"\n",
    "\n",
    "cursorObject.execute(Q10)\n",
    "output = cursorObject.fetchall()\n",
    "\n",
    "output_df = pd.DataFrame(output, columns=['TOTAL AMOUNT'])\n",
    "output_df"
   ]
  },
  {
   "attachments": {},
   "cell_type": "markdown",
   "id": "ff8a9971",
   "metadata": {
    "id": "ff8a9971"
   },
   "source": [
    "### Q11) Display all the Customers left outer join with  the orders"
   ]
  },
  {
   "cell_type": "code",
   "execution_count": null,
   "id": "a340c6d6",
   "metadata": {
    "id": "a340c6d6"
   },
   "outputs": [
    {
     "data": {
      "text/html": [
       "<div>\n",
       "<style scoped>\n",
       "    .dataframe tbody tr th:only-of-type {\n",
       "        vertical-align: middle;\n",
       "    }\n",
       "\n",
       "    .dataframe tbody tr th {\n",
       "        vertical-align: top;\n",
       "    }\n",
       "\n",
       "    .dataframe thead th {\n",
       "        text-align: right;\n",
       "    }\n",
       "</style>\n",
       "<table border=\"1\" class=\"dataframe\">\n",
       "  <thead>\n",
       "    <tr style=\"text-align: right;\">\n",
       "      <th></th>\n",
       "      <th>ID</th>\n",
       "      <th>NAME</th>\n",
       "      <th>GENDER</th>\n",
       "      <th>CITY</th>\n",
       "      <th>PHONE</th>\n",
       "    </tr>\n",
       "  </thead>\n",
       "  <tbody>\n",
       "    <tr>\n",
       "      <th>0</th>\n",
       "      <td>1</td>\n",
       "      <td>AAKASH</td>\n",
       "      <td>M</td>\n",
       "      <td>Delhi</td>\n",
       "      <td>9999999999</td>\n",
       "    </tr>\n",
       "    <tr>\n",
       "      <th>1</th>\n",
       "      <td>2</td>\n",
       "      <td>AMAN</td>\n",
       "      <td>M</td>\n",
       "      <td>Mumbai</td>\n",
       "      <td>9785463215</td>\n",
       "    </tr>\n",
       "    <tr>\n",
       "      <th>2</th>\n",
       "      <td>3</td>\n",
       "      <td>NEHA</td>\n",
       "      <td>F</td>\n",
       "      <td>Bangalore</td>\n",
       "      <td>9999999998</td>\n",
       "    </tr>\n",
       "    <tr>\n",
       "      <th>3</th>\n",
       "      <td>4</td>\n",
       "      <td>MEGHA</td>\n",
       "      <td>F</td>\n",
       "      <td>Kochi</td>\n",
       "      <td>9994562399</td>\n",
       "    </tr>\n",
       "    <tr>\n",
       "      <th>4</th>\n",
       "      <td>5</td>\n",
       "      <td>PULKIT</td>\n",
       "      <td>M</td>\n",
       "      <td>Lucknow</td>\n",
       "      <td>7895999999</td>\n",
       "    </tr>\n",
       "  </tbody>\n",
       "</table>\n",
       "</div>"
      ],
      "text/plain": [
       "   ID    NAME GENDER       CITY       PHONE\n",
       "0   1  AAKASH      M      Delhi  9999999999\n",
       "1   2    AMAN      M     Mumbai  9785463215\n",
       "2   3    NEHA      F  Bangalore  9999999998\n",
       "3   4   MEGHA      F      Kochi  9994562399\n",
       "4   5  PULKIT      M    Lucknow  7895999999"
      ]
     },
     "execution_count": 7,
     "metadata": {},
     "output_type": "execute_result"
    }
   ],
   "source": [
    "Q11=\"\"\"select CUS.CUS_ID, CUS.CUS_NAME, CUS.CUS_GENDER, CUS.CUS_CITY, CUS.CUS_PHONE from customer as CUS left join orders as ORD on ORD.CUS_ID=CUS.CUS_ID\"\"\"\n",
    "\n",
    "cursorObject.execute(Q11)\n",
    " \n",
    "output = cursorObject.fetchall()\n",
    "\n",
    "output_df = pd.DataFrame(output, columns=['ID','NAME','GENDER','CITY','PHONE'])\n",
    "output_df"
   ]
  },
  {
   "cell_type": "code",
   "execution_count": 8,
   "id": "9803376e",
   "metadata": {},
   "outputs": [],
   "source": [
    "connection.close()"
   ]
  },
  {
   "attachments": {},
   "cell_type": "markdown",
   "id": "0a72afe3",
   "metadata": {
    "id": "0a72afe3"
   },
   "source": [
    "**NOTE:** Always close an open connection once you are done with the database operations"
   ]
  },
  {
   "attachments": {},
   "cell_type": "markdown",
   "id": "8c88f479",
   "metadata": {
    "id": "8c88f479"
   },
   "source": [
    "## Happy Learning:)"
   ]
  }
 ],
 "metadata": {
  "colab": {
   "name": "Lab Session  -  E-Commerce.ipynb",
   "provenance": []
  },
  "kernelspec": {
   "display_name": "Python 3 (ipykernel)",
   "language": "python",
   "name": "python3"
  },
  "language_info": {
   "codemirror_mode": {
    "name": "ipython",
    "version": 3
   },
   "file_extension": ".py",
   "mimetype": "text/x-python",
   "name": "python",
   "nbconvert_exporter": "python",
   "pygments_lexer": "ipython3",
   "version": "3.10.10"
  }
 },
 "nbformat": 4,
 "nbformat_minor": 5
}
